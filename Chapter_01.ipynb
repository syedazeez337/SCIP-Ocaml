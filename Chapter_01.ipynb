{
 "cells": [
  {
   "cell_type": "code",
   "execution_count": 2,
   "id": "a7091656-6604-47ef-9859-5652bfddc3ea",
   "metadata": {},
   "outputs": [
    {
     "data": {
      "text/plain": [
       "- : int = 12\n"
      ]
     },
     "execution_count": 2,
     "metadata": {},
     "output_type": "execute_result"
    }
   ],
   "source": [
    "( * ) 3 4"
   ]
  },
  {
   "cell_type": "code",
   "execution_count": 4,
   "id": "0d5c54ca-8915-4cb4-86a2-82bd94185a2d",
   "metadata": {},
   "outputs": [
    {
     "data": {
      "text/plain": [
       "- : int = 75\n"
      ]
     },
     "execution_count": 4,
     "metadata": {},
     "output_type": "execute_result"
    }
   ],
   "source": [
    "21 + 35 + 12 + 7"
   ]
  },
  {
   "cell_type": "code",
   "execution_count": 5,
   "id": "678d9658-b19f-4d54-b75e-ef6b88fc433e",
   "metadata": {},
   "outputs": [
    {
     "data": {
      "text/plain": [
       "val size : int = 2\n"
      ]
     },
     "execution_count": 5,
     "metadata": {},
     "output_type": "execute_result"
    }
   ],
   "source": [
    "let size = 2"
   ]
  },
  {
   "cell_type": "code",
   "execution_count": 6,
   "id": "33962e1e-9938-4e8c-b8d4-2c8c82e1b708",
   "metadata": {},
   "outputs": [
    {
     "data": {
      "text/plain": [
       "- : int = 6\n"
      ]
     },
     "execution_count": 6,
     "metadata": {},
     "output_type": "execute_result"
    }
   ],
   "source": [
    "size * 3"
   ]
  },
  {
   "cell_type": "code",
   "execution_count": 9,
   "id": "aff86225-da9c-41f1-a024-ce9507805e95",
   "metadata": {},
   "outputs": [
    {
     "data": {
      "text/plain": [
       "val pi : float = 3.14159\n"
      ]
     },
     "execution_count": 9,
     "metadata": {},
     "output_type": "execute_result"
    },
    {
     "data": {
      "text/plain": [
       "val radius : int = 10\n"
      ]
     },
     "execution_count": 9,
     "metadata": {},
     "output_type": "execute_result"
    },
    {
     "data": {
      "text/plain": [
       "val circumference : float = 62.8318\n"
      ]
     },
     "execution_count": 9,
     "metadata": {},
     "output_type": "execute_result"
    }
   ],
   "source": [
    "let pi = 3.14159\n",
    "let radius = 10\n",
    "let circumference = 2. *. (float_of_int radius) *. pi"
   ]
  },
  {
   "cell_type": "code",
   "execution_count": 10,
   "id": "6c9cfe3b-681f-435c-937b-716b6fb9c651",
   "metadata": {},
   "outputs": [
    {
     "data": {
      "text/plain": [
       "val square : int -> int = <fun>\n"
      ]
     },
     "execution_count": 10,
     "metadata": {},
     "output_type": "execute_result"
    }
   ],
   "source": [
    "(* square function *)\n",
    "let square x = x * x"
   ]
  },
  {
   "cell_type": "code",
   "execution_count": 11,
   "id": "e4c4af63-d974-481b-bb60-3f06a0026afa",
   "metadata": {},
   "outputs": [
    {
     "data": {
      "text/plain": [
       "- : int = 4\n"
      ]
     },
     "execution_count": 11,
     "metadata": {},
     "output_type": "execute_result"
    },
    {
     "data": {
      "text/plain": [
       "- : int = 9\n"
      ]
     },
     "execution_count": 11,
     "metadata": {},
     "output_type": "execute_result"
    },
    {
     "data": {
      "text/plain": [
       "- : int = 16\n"
      ]
     },
     "execution_count": 11,
     "metadata": {},
     "output_type": "execute_result"
    }
   ],
   "source": [
    "square 2;;\n",
    "square 3;;\n",
    "square 4;;"
   ]
  },
  {
   "cell_type": "code",
   "execution_count": 12,
   "id": "9809de47-0073-40ae-8d8d-73818212be84",
   "metadata": {},
   "outputs": [
    {
     "data": {
      "text/plain": [
       "val sum_of_squares : int -> int -> int = <fun>\n"
      ]
     },
     "execution_count": 12,
     "metadata": {},
     "output_type": "execute_result"
    }
   ],
   "source": [
    "(* sum of squares *)\n",
    "let sum_of_squares x y =\n",
    "    square x + square y"
   ]
  },
  {
   "cell_type": "code",
   "execution_count": 13,
   "id": "e1c52d97-e3a6-4c3a-88f1-0a7c001f8335",
   "metadata": {},
   "outputs": [
    {
     "data": {
      "text/plain": [
       "- : int = 25\n"
      ]
     },
     "execution_count": 13,
     "metadata": {},
     "output_type": "execute_result"
    }
   ],
   "source": [
    "sum_of_squares 3 4"
   ]
  },
  {
   "cell_type": "markdown",
   "id": "71ca4491-b840-46d0-a34b-75b946da9fcc",
   "metadata": {},
   "source": [
    "## Conditional Expressions\n",
    "- use of if-then-else statements"
   ]
  },
  {
   "cell_type": "code",
   "execution_count": 15,
   "id": "8b6b9343-5502-4483-aa18-8b22f9a73f5c",
   "metadata": {},
   "outputs": [
    {
     "data": {
      "text/plain": [
       "val abs_func : int -> int = <fun>\n"
      ]
     },
     "execution_count": 15,
     "metadata": {},
     "output_type": "execute_result"
    }
   ],
   "source": [
    "(* abs function *)\n",
    "let abs_func x =\n",
    "    if (x > 0) || (x = 0) then x else -x"
   ]
  },
  {
   "cell_type": "code",
   "execution_count": 19,
   "id": "139ed921-0027-4748-be74-82156cf6ca3f",
   "metadata": {},
   "outputs": [
    {
     "data": {
      "text/plain": [
       "- : int = 1\n"
      ]
     },
     "execution_count": 19,
     "metadata": {},
     "output_type": "execute_result"
    },
    {
     "data": {
      "text/plain": [
       "- : int = 0\n"
      ]
     },
     "execution_count": 19,
     "metadata": {},
     "output_type": "execute_result"
    },
    {
     "data": {
      "text/plain": [
       "- : int = 2\n"
      ]
     },
     "execution_count": 19,
     "metadata": {},
     "output_type": "execute_result"
    }
   ],
   "source": [
    "abs_func (-1);;\n",
    "abs_func 0;;\n",
    "abs_func 2;;"
   ]
  },
  {
   "cell_type": "code",
   "execution_count": 20,
   "id": "d9b42ab4-e102-4acc-9783-46fc10b11988",
   "metadata": {},
   "outputs": [
    {
     "data": {
      "text/plain": [
       "val abs_func' : int -> int = <fun>\n"
      ]
     },
     "execution_count": 20,
     "metadata": {},
     "output_type": "execute_result"
    }
   ],
   "source": [
    "let abs_func' x =\n",
    "    if x < 0 then -x else x"
   ]
  },
  {
   "cell_type": "code",
   "execution_count": null,
   "id": "907748e9-e843-4c1b-b988-2a18bfabea8f",
   "metadata": {},
   "outputs": [],
   "source": []
  }
 ],
 "metadata": {
  "kernelspec": {
   "display_name": "OCaml default",
   "language": "OCaml",
   "name": "ocaml-jupyter-default"
  },
  "language_info": {
   "codemirror_mode": "text/x-ocaml",
   "file_extension": ".ml",
   "mimetype": "text/x-ocaml",
   "name": "OCaml",
   "nbconverter_exporter": null,
   "pygments_lexer": "OCaml",
   "version": "4.14.2"
  }
 },
 "nbformat": 4,
 "nbformat_minor": 5
}
